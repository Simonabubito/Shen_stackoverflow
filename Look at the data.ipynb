{
 "cells": [
  {
   "cell_type": "markdown",
   "id": "16f4a00d",
   "metadata": {},
   "source": [
    "## A look at the data\n",
    "\n",
    "Using the course content from Udacity as reference, here I will get familiar with the data for this project.\n",
    "\n",
    "First, read in the data and necessary libraries."
   ]
  },
  {
   "cell_type": "code",
   "execution_count": 15,
   "id": "ada3ac15",
   "metadata": {},
   "outputs": [
    {
     "data": {
      "text/html": [
       "<div>\n",
       "<style scoped>\n",
       "    .dataframe tbody tr th:only-of-type {\n",
       "        vertical-align: middle;\n",
       "    }\n",
       "\n",
       "    .dataframe tbody tr th {\n",
       "        vertical-align: top;\n",
       "    }\n",
       "\n",
       "    .dataframe thead th {\n",
       "        text-align: right;\n",
       "    }\n",
       "</style>\n",
       "<table border=\"1\" class=\"dataframe\">\n",
       "  <thead>\n",
       "    <tr style=\"text-align: right;\">\n",
       "      <th></th>\n",
       "      <th>Respondent</th>\n",
       "      <th>Professional</th>\n",
       "      <th>ProgramHobby</th>\n",
       "      <th>Country</th>\n",
       "      <th>University</th>\n",
       "      <th>EmploymentStatus</th>\n",
       "      <th>FormalEducation</th>\n",
       "      <th>MajorUndergrad</th>\n",
       "      <th>HomeRemote</th>\n",
       "      <th>CompanySize</th>\n",
       "      <th>...</th>\n",
       "      <th>StackOverflowMakeMoney</th>\n",
       "      <th>Gender</th>\n",
       "      <th>HighestEducationParents</th>\n",
       "      <th>Race</th>\n",
       "      <th>SurveyLong</th>\n",
       "      <th>QuestionsInteresting</th>\n",
       "      <th>QuestionsConfusing</th>\n",
       "      <th>InterestedAnswers</th>\n",
       "      <th>Salary</th>\n",
       "      <th>ExpectedSalary</th>\n",
       "    </tr>\n",
       "  </thead>\n",
       "  <tbody>\n",
       "    <tr>\n",
       "      <th>0</th>\n",
       "      <td>1</td>\n",
       "      <td>Student</td>\n",
       "      <td>Yes, both</td>\n",
       "      <td>United States</td>\n",
       "      <td>No</td>\n",
       "      <td>Not employed, and not looking for work</td>\n",
       "      <td>Secondary school</td>\n",
       "      <td>NaN</td>\n",
       "      <td>NaN</td>\n",
       "      <td>NaN</td>\n",
       "      <td>...</td>\n",
       "      <td>Strongly disagree</td>\n",
       "      <td>Male</td>\n",
       "      <td>High school</td>\n",
       "      <td>White or of European descent</td>\n",
       "      <td>Strongly disagree</td>\n",
       "      <td>Strongly agree</td>\n",
       "      <td>Disagree</td>\n",
       "      <td>Strongly agree</td>\n",
       "      <td>NaN</td>\n",
       "      <td>NaN</td>\n",
       "    </tr>\n",
       "    <tr>\n",
       "      <th>1</th>\n",
       "      <td>2</td>\n",
       "      <td>Student</td>\n",
       "      <td>Yes, both</td>\n",
       "      <td>United Kingdom</td>\n",
       "      <td>Yes, full-time</td>\n",
       "      <td>Employed part-time</td>\n",
       "      <td>Some college/university study without earning ...</td>\n",
       "      <td>Computer science or software engineering</td>\n",
       "      <td>More than half, but not all, the time</td>\n",
       "      <td>20 to 99 employees</td>\n",
       "      <td>...</td>\n",
       "      <td>Strongly disagree</td>\n",
       "      <td>Male</td>\n",
       "      <td>A master's degree</td>\n",
       "      <td>White or of European descent</td>\n",
       "      <td>Somewhat agree</td>\n",
       "      <td>Somewhat agree</td>\n",
       "      <td>Disagree</td>\n",
       "      <td>Strongly agree</td>\n",
       "      <td>NaN</td>\n",
       "      <td>37500.0</td>\n",
       "    </tr>\n",
       "  </tbody>\n",
       "</table>\n",
       "<p>2 rows × 154 columns</p>\n",
       "</div>"
      ],
      "text/plain": [
       "   Respondent Professional ProgramHobby         Country      University  \\\n",
       "0           1      Student    Yes, both   United States              No   \n",
       "1           2      Student    Yes, both  United Kingdom  Yes, full-time   \n",
       "\n",
       "                         EmploymentStatus  \\\n",
       "0  Not employed, and not looking for work   \n",
       "1                      Employed part-time   \n",
       "\n",
       "                                     FormalEducation  \\\n",
       "0                                   Secondary school   \n",
       "1  Some college/university study without earning ...   \n",
       "\n",
       "                             MajorUndergrad  \\\n",
       "0                                       NaN   \n",
       "1  Computer science or software engineering   \n",
       "\n",
       "                              HomeRemote         CompanySize  ...  \\\n",
       "0                                    NaN                 NaN  ...   \n",
       "1  More than half, but not all, the time  20 to 99 employees  ...   \n",
       "\n",
       "  StackOverflowMakeMoney Gender HighestEducationParents  \\\n",
       "0      Strongly disagree   Male             High school   \n",
       "1      Strongly disagree   Male       A master's degree   \n",
       "\n",
       "                           Race         SurveyLong QuestionsInteresting  \\\n",
       "0  White or of European descent  Strongly disagree       Strongly agree   \n",
       "1  White or of European descent     Somewhat agree       Somewhat agree   \n",
       "\n",
       "  QuestionsConfusing InterestedAnswers  Salary  ExpectedSalary  \n",
       "0           Disagree    Strongly agree     NaN             NaN  \n",
       "1           Disagree    Strongly agree     NaN         37500.0  \n",
       "\n",
       "[2 rows x 154 columns]"
      ]
     },
     "execution_count": 15,
     "metadata": {},
     "output_type": "execute_result"
    }
   ],
   "source": [
    "import numpy as np\n",
    "import pandas as pd\n",
    "import matplotlib.pyplot as plt\n",
    "from IPython import display\n",
    "\n",
    "df = pd.read_csv('survey-results-public.csv')\n",
    "df.head(2)"
   ]
  },
  {
   "cell_type": "markdown",
   "id": "99a2b0d5",
   "metadata": {},
   "source": [
    "### Question 1: Provide the number of rows and columns."
   ]
  },
  {
   "cell_type": "code",
   "execution_count": 7,
   "id": "ef7ccd6d",
   "metadata": {},
   "outputs": [
    {
     "data": {
      "text/plain": [
       "(51392, 154)"
      ]
     },
     "execution_count": 7,
     "metadata": {},
     "output_type": "execute_result"
    }
   ],
   "source": [
    "df.shape"
   ]
  },
  {
   "cell_type": "markdown",
   "id": "31ee73b7",
   "metadata": {},
   "source": [
    "### Question 2: Provide a list of column names that have no missing values."
   ]
  },
  {
   "cell_type": "code",
   "execution_count": 12,
   "id": "53ba00bb",
   "metadata": {},
   "outputs": [
    {
     "data": {
      "text/plain": [
       "'Respondent, Professional, ProgramHobby, Country, University, EmploymentStatus, FormalEducation'"
      ]
     },
     "execution_count": 12,
     "metadata": {},
     "output_type": "execute_result"
    }
   ],
   "source": [
    "# We can use boolean mask from notnull to filter the column names:\n",
    "no_nulls = list(df.columns[df.notnull().all()])\n",
    "', '.join(no_nulls)"
   ]
  },
  {
   "cell_type": "code",
   "execution_count": 14,
   "id": "85446a86",
   "metadata": {},
   "outputs": [
    {
     "data": {
      "text/plain": [
       "'Respondent, Professional, ProgramHobby, Country, University, EmploymentStatus, FormalEducation'"
      ]
     },
     "execution_count": 14,
     "metadata": {},
     "output_type": "execute_result"
    }
   ],
   "source": [
    "# or we can use isnull:\n",
    "no_nulls = list(df.columns[df.isnull().mean() == 0])\n",
    "', '.join(no_nulls)"
   ]
  },
  {
   "cell_type": "markdown",
   "id": "512bf9b0",
   "metadata": {},
   "source": [
    "### Question 3: Which columns have more than 75% values missing?"
   ]
  },
  {
   "cell_type": "code",
   "execution_count": 16,
   "id": "351c2931",
   "metadata": {},
   "outputs": [
    {
     "data": {
      "text/plain": [
       "'YearsCodedJobPast, WebDeveloperType, MobileDeveloperType, NonDeveloperType, ExCoderReturn, ExCoderNotForMe, ExCoderBalance, ExCoder10Years, ExCoderBelonged, ExCoderSkills, ExCoderWillNotCode, ExCoderActive, TimeAfterBootcamp, ExpectedSalary'"
      ]
     },
     "execution_count": 16,
     "metadata": {},
     "output_type": "execute_result"
    }
   ],
   "source": [
    "missing_75 = list(df.columns[df.isnull().mean() > 0.75])\n",
    "', '.join(missing_75)"
   ]
  },
  {
   "cell_type": "markdown",
   "id": "fe4ca1f3",
   "metadata": {},
   "source": [
    "### Question 4: Show the value counts of Professional status."
   ]
  },
  {
   "cell_type": "code",
   "execution_count": 18,
   "id": "3e22cc0d",
   "metadata": {},
   "outputs": [
    {
     "data": {
      "text/plain": [
       "Professional developer                                  36131\n",
       "Student                                                  8224\n",
       "Professional non-developer who sometimes writes code     5140\n",
       "Used to be a professional developer                       983\n",
       "None of these                                             914\n",
       "Name: Professional, dtype: int64"
      ]
     },
     "execution_count": 18,
     "metadata": {},
     "output_type": "execute_result"
    }
   ],
   "source": [
    "status_count = df.Professional.value_counts()\n",
    "status_count"
   ]
  },
  {
   "cell_type": "code",
   "execution_count": 28,
   "id": "b70e0b7b",
   "metadata": {},
   "outputs": [
    {
     "data": {
      "image/png": "[encoded data removed]",
      "text/plain": [
       "<Figure size 432x288 with 1 Axes>"
      ]
     },
     "metadata": {
      "needs_background": "light"
     },
     "output_type": "display_data"
    }
   ],
   "source": [
    "# We can use plt to make a bar or pie chart\n",
    "(status_count / df.shape[0]).plot(kind = 'barh', title = 'What kind of developer are you?');\n",
    "\n",
    "# We can also add title in a separate line, if not as an arg of plot()\n",
    "#plt.title('What kind of developer are you?');"
   ]
  },
  {
   "cell_type": "markdown",
   "id": "f160076d",
   "metadata": {},
   "source": [
    "### Question 5: Show the distribution of FormalEducation"
   ]
  },
  {
   "cell_type": "code",
   "execution_count": 29,
   "id": "5fce69ff",
   "metadata": {},
   "outputs": [
    {
     "data": {
      "image/png": "[encoded data removed]",
      "text/plain": [
       "<Figure size 432x288 with 1 Axes>"
      ]
     },
     "metadata": {
      "needs_background": "light"
     },
     "output_type": "display_data"
    }
   ],
   "source": [
    "ed_vals = df.FormalEducation.value_counts()\n",
    "(ed_vals / df.shape[0]).plot(kind = 'barh', title = 'Formal Education');"
   ]
  },
  {
   "cell_type": "markdown",
   "id": "25ac6a1e",
   "metadata": {},
   "source": [
    "### Question 6: Show the distribution of Country"
   ]
  },
  {
   "cell_type": "code",
   "execution_count": 33,
   "id": "8a5567fa",
   "metadata": {},
   "outputs": [
    {
     "data": {
      "image/png": "[encoded data removed]",
      "text/plain": [
       "<Figure size 432x288 with 1 Axes>"
      ]
     },
     "metadata": {
      "needs_background": "light"
     },
     "output_type": "display_data"
    }
   ],
   "source": [
    "country_vals = df.Country.value_counts()\n",
    "(country_vals[:10] / df.shape[0]).plot(kind = 'bar', title = 'Country');"
   ]
  },
  {
   "cell_type": "code",
   "execution_count": null,
   "id": "89eac595",
   "metadata": {},
   "outputs": [],
   "source": []
  }
 ],
 "metadata": {
  "kernelspec": {
   "display_name": "Python 3 (ipykernel)",
   "language": "python",
   "name": "python3"
  },
  "language_info": {
   "codemirror_mode": {
    "name": "ipython",
    "version": 3
   },
   "file_extension": ".py",
   "mimetype": "text/x-python",
   "name": "python",
   "nbconvert_exporter": "python",
   "pygments_lexer": "ipython3",
   "version": "3.9.12"
  }
 },
 "nbformat": 4,
 "nbformat_minor": 5
}
