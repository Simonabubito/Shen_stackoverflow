{
 "cells": [
  {
   "cell_type": "markdown",
   "id": "16f4a00d",
   "metadata": {},
   "source": [
    "## A look at the data\n",
    "\n",
    "Using the course content from Udacity as reference, here I will get familiar with the data for this project.\n",
    "\n",
    "First, read in the data and necessary libraries."
   ]
  },
  {
   "cell_type": "code",
   "execution_count": 1,
   "id": "ada3ac15",
   "metadata": {},
   "outputs": [
    {
     "data": {
      "text/html": [
       "<div>\n",
       "<style scoped>\n",
       "    .dataframe tbody tr th:only-of-type {\n",
       "        vertical-align: middle;\n",
       "    }\n",
       "\n",
       "    .dataframe tbody tr th {\n",
       "        vertical-align: top;\n",
       "    }\n",
       "\n",
       "    .dataframe thead th {\n",
       "        text-align: right;\n",
       "    }\n",
       "</style>\n",
       "<table border=\"1\" class=\"dataframe\">\n",
       "  <thead>\n",
       "    <tr style=\"text-align: right;\">\n",
       "      <th></th>\n",
       "      <th>Respondent</th>\n",
       "      <th>Professional</th>\n",
       "      <th>ProgramHobby</th>\n",
       "      <th>Country</th>\n",
       "      <th>University</th>\n",
       "      <th>EmploymentStatus</th>\n",
       "      <th>FormalEducation</th>\n",
       "      <th>MajorUndergrad</th>\n",
       "      <th>HomeRemote</th>\n",
       "      <th>CompanySize</th>\n",
       "      <th>...</th>\n",
       "      <th>StackOverflowMakeMoney</th>\n",
       "      <th>Gender</th>\n",
       "      <th>HighestEducationParents</th>\n",
       "      <th>Race</th>\n",
       "      <th>SurveyLong</th>\n",
       "      <th>QuestionsInteresting</th>\n",
       "      <th>QuestionsConfusing</th>\n",
       "      <th>InterestedAnswers</th>\n",
       "      <th>Salary</th>\n",
       "      <th>ExpectedSalary</th>\n",
       "    </tr>\n",
       "  </thead>\n",
       "  <tbody>\n",
       "    <tr>\n",
       "      <th>0</th>\n",
       "      <td>1</td>\n",
       "      <td>Student</td>\n",
       "      <td>Yes, both</td>\n",
       "      <td>United States</td>\n",
       "      <td>No</td>\n",
       "      <td>Not employed, and not looking for work</td>\n",
       "      <td>Secondary school</td>\n",
       "      <td>NaN</td>\n",
       "      <td>NaN</td>\n",
       "      <td>NaN</td>\n",
       "      <td>...</td>\n",
       "      <td>Strongly disagree</td>\n",
       "      <td>Male</td>\n",
       "      <td>High school</td>\n",
       "      <td>White or of European descent</td>\n",
       "      <td>Strongly disagree</td>\n",
       "      <td>Strongly agree</td>\n",
       "      <td>Disagree</td>\n",
       "      <td>Strongly agree</td>\n",
       "      <td>NaN</td>\n",
       "      <td>NaN</td>\n",
       "    </tr>\n",
       "    <tr>\n",
       "      <th>1</th>\n",
       "      <td>2</td>\n",
       "      <td>Student</td>\n",
       "      <td>Yes, both</td>\n",
       "      <td>United Kingdom</td>\n",
       "      <td>Yes, full-time</td>\n",
       "      <td>Employed part-time</td>\n",
       "      <td>Some college/university study without earning ...</td>\n",
       "      <td>Computer science or software engineering</td>\n",
       "      <td>More than half, but not all, the time</td>\n",
       "      <td>20 to 99 employees</td>\n",
       "      <td>...</td>\n",
       "      <td>Strongly disagree</td>\n",
       "      <td>Male</td>\n",
       "      <td>A master's degree</td>\n",
       "      <td>White or of European descent</td>\n",
       "      <td>Somewhat agree</td>\n",
       "      <td>Somewhat agree</td>\n",
       "      <td>Disagree</td>\n",
       "      <td>Strongly agree</td>\n",
       "      <td>NaN</td>\n",
       "      <td>37500.0</td>\n",
       "    </tr>\n",
       "  </tbody>\n",
       "</table>\n",
       "<p>2 rows × 154 columns</p>\n",
       "</div>"
      ],
      "text/plain": [
       "   Respondent Professional ProgramHobby         Country      University  \\\n",
       "0           1      Student    Yes, both   United States              No   \n",
       "1           2      Student    Yes, both  United Kingdom  Yes, full-time   \n",
       "\n",
       "                         EmploymentStatus  \\\n",
       "0  Not employed, and not looking for work   \n",
       "1                      Employed part-time   \n",
       "\n",
       "                                     FormalEducation  \\\n",
       "0                                   Secondary school   \n",
       "1  Some college/university study without earning ...   \n",
       "\n",
       "                             MajorUndergrad  \\\n",
       "0                                       NaN   \n",
       "1  Computer science or software engineering   \n",
       "\n",
       "                              HomeRemote         CompanySize  ...  \\\n",
       "0                                    NaN                 NaN  ...   \n",
       "1  More than half, but not all, the time  20 to 99 employees  ...   \n",
       "\n",
       "  StackOverflowMakeMoney Gender HighestEducationParents  \\\n",
       "0      Strongly disagree   Male             High school   \n",
       "1      Strongly disagree   Male       A master's degree   \n",
       "\n",
       "                           Race         SurveyLong QuestionsInteresting  \\\n",
       "0  White or of European descent  Strongly disagree       Strongly agree   \n",
       "1  White or of European descent     Somewhat agree       Somewhat agree   \n",
       "\n",
       "  QuestionsConfusing InterestedAnswers  Salary  ExpectedSalary  \n",
       "0           Disagree    Strongly agree     NaN             NaN  \n",
       "1           Disagree    Strongly agree     NaN         37500.0  \n",
       "\n",
       "[2 rows x 154 columns]"
      ]
     },
     "execution_count": 1,
     "metadata": {},
     "output_type": "execute_result"
    }
   ],
   "source": [
    "import numpy as np\n",
    "import pandas as pd\n",
    "import matplotlib.pyplot as plt\n",
    "from IPython import display\n",
    "\n",
    "df = pd.read_csv('survey-results-public.csv')\n",
    "df.head(2)"
   ]
  },
  {
   "cell_type": "markdown",
   "id": "99a2b0d5",
   "metadata": {},
   "source": [
    "### Question 1: Provide the number of rows and columns."
   ]
  },
  {
   "cell_type": "code",
   "execution_count": 2,
   "id": "ef7ccd6d",
   "metadata": {},
   "outputs": [
    {
     "data": {
      "text/plain": [
       "(51392, 154)"
      ]
     },
     "execution_count": 2,
     "metadata": {},
     "output_type": "execute_result"
    }
   ],
   "source": [
    "df.shape"
   ]
  },
  {
   "cell_type": "markdown",
   "id": "31ee73b7",
   "metadata": {},
   "source": [
    "### Question 2: Provide a list of column names that have no missing values."
   ]
  },
  {
   "cell_type": "code",
   "execution_count": 3,
   "id": "53ba00bb",
   "metadata": {},
   "outputs": [
    {
     "data": {
      "text/plain": [
       "'Respondent, Professional, ProgramHobby, Country, University, EmploymentStatus, FormalEducation'"
      ]
     },
     "execution_count": 3,
     "metadata": {},
     "output_type": "execute_result"
    }
   ],
   "source": [
    "# We can use boolean mask from notnull to filter the column names:\n",
    "no_nulls = list(df.columns[df.notnull().all()])\n",
    "', '.join(no_nulls)"
   ]
  },
  {
   "cell_type": "code",
   "execution_count": 4,
   "id": "85446a86",
   "metadata": {},
   "outputs": [
    {
     "data": {
      "text/plain": [
       "'Respondent, Professional, ProgramHobby, Country, University, EmploymentStatus, FormalEducation'"
      ]
     },
     "execution_count": 4,
     "metadata": {},
     "output_type": "execute_result"
    }
   ],
   "source": [
    "# or we can use isnull:\n",
    "no_nulls = list(df.columns[df.isnull().mean() == 0])\n",
    "', '.join(no_nulls)"
   ]
  },
  {
   "cell_type": "markdown",
   "id": "512bf9b0",
   "metadata": {},
   "source": [
    "### Question 3: Which columns have more than 75% values missing?"
   ]
  },
  {
   "cell_type": "code",
   "execution_count": 5,
   "id": "351c2931",
   "metadata": {},
   "outputs": [
    {
     "data": {
      "text/plain": [
       "'YearsCodedJobPast, WebDeveloperType, MobileDeveloperType, NonDeveloperType, ExCoderReturn, ExCoderNotForMe, ExCoderBalance, ExCoder10Years, ExCoderBelonged, ExCoderSkills, ExCoderWillNotCode, ExCoderActive, TimeAfterBootcamp, ExpectedSalary'"
      ]
     },
     "execution_count": 5,
     "metadata": {},
     "output_type": "execute_result"
    }
   ],
   "source": [
    "missing_75 = list(df.columns[df.isnull().mean() > 0.75])\n",
    "', '.join(missing_75)"
   ]
  },
  {
   "cell_type": "markdown",
   "id": "fe4ca1f3",
   "metadata": {},
   "source": [
    "### Question 4: Show the value counts of Professional status."
   ]
  },
  {
   "cell_type": "code",
   "execution_count": 6,
   "id": "3e22cc0d",
   "metadata": {},
   "outputs": [
    {
     "data": {
      "text/plain": [
       "Professional developer                                  36131\n",
       "Student                                                  8224\n",
       "Professional non-developer who sometimes writes code     5140\n",
       "Used to be a professional developer                       983\n",
       "None of these                                             914\n",
       "Name: Professional, dtype: int64"
      ]
     },
     "execution_count": 6,
     "metadata": {},
     "output_type": "execute_result"
    }
   ],
   "source": [
    "status_count = df.Professional.value_counts()\n",
    "status_count"
   ]
  },
  {
   "cell_type": "code",
   "execution_count": 7,
   "id": "b70e0b7b",
   "metadata": {},
   "outputs": [
    {
     "data": {
      "image/png": "[encoded data removed]",
      "text/plain": [
       "<Figure size 432x288 with 1 Axes>"
      ]
     },
     "metadata": {
      "needs_background": "light"
     },
     "output_type": "display_data"
    }
   ],
   "source": [
    "# We can use plt to make a bar or pie chart\n",
    "(status_count / df.shape[0]).plot(kind = 'barh', title = 'What kind of developer are you?');\n",
    "\n",
    "# We can also add title in a separate line, if not as an arg of plot()\n",
    "#plt.title('What kind of developer are you?');"
   ]
  },
  {
   "cell_type": "markdown",
   "id": "f160076d",
   "metadata": {},
   "source": [
    "### Question 5: Show the distribution of FormalEducation"
   ]
  },
  {
   "cell_type": "code",
   "execution_count": 8,
   "id": "5fce69ff",
   "metadata": {},
   "outputs": [
    {
     "data": {
      "image/png": "[encoded data removed]",
      "text/plain": [
       "<Figure size 432x288 with 1 Axes>"
      ]
     },
     "metadata": {
      "needs_background": "light"
     },
     "output_type": "display_data"
    }
   ],
   "source": [
    "ed_vals = df.FormalEducation.value_counts()\n",
    "(ed_vals / df.shape[0]).plot(kind = 'barh', title = 'Formal Education');"
   ]
  },
  {
   "cell_type": "markdown",
   "id": "25ac6a1e",
   "metadata": {},
   "source": [
    "### Question 6: Show the distribution of Country"
   ]
  },
  {
   "cell_type": "code",
   "execution_count": 9,
   "id": "8a5567fa",
   "metadata": {},
   "outputs": [
    {
     "data": {
      "image/png": "[encoded data removed]",
      "text/plain": [
       "<Figure size 432x288 with 1 Axes>"
      ]
     },
     "metadata": {
      "needs_background": "light"
     },
     "output_type": "display_data"
    }
   ],
   "source": [
    "country_vals = df.Country.value_counts()\n",
    "(country_vals[:10] / df.shape[0]).plot(kind = 'bar', title = 'Country');"
   ]
  },
  {
   "cell_type": "markdown",
   "id": "8af32345",
   "metadata": {},
   "source": [
    "### Question 7: Show the distribution of different columns to see if anything interesting"
   ]
  },
  {
   "cell_type": "markdown",
   "id": "8be1344b",
   "metadata": {},
   "source": [
    "#### First let's explore the column FriendsDevelopers"
   ]
  },
  {
   "cell_type": "code",
   "execution_count": 9,
   "id": "07e17355",
   "metadata": {},
   "outputs": [
    {
     "data": {
      "text/plain": [
       "0.3956841531755915"
      ]
     },
     "execution_count": 9,
     "metadata": {},
     "output_type": "execute_result"
    }
   ],
   "source": [
    "# check how much percent of FriendsDevelopers column is null\n",
    "df.FriendsDevelopers.isnull().mean()"
   ]
  },
  {
   "cell_type": "code",
   "execution_count": 47,
   "id": "a695188d",
   "metadata": {},
   "outputs": [
    {
     "data": {
      "image/png": "[encoded data removed]",
      "text/plain": [
       "<Figure size 432x288 with 1 Axes>"
      ]
     },
     "metadata": {
      "needs_background": "light"
     },
     "output_type": "display_data"
    }
   ],
   "source": [
    "FriDev = df.FriendsDevelopers.value_counts()\n",
    "new_index = ['Strongly disagree', 'Disagree', 'Somewhat agree', 'Agree', 'Strongly agree']\n",
    "FriDev = FriDev.reindex(index = new_index)\n",
    "(FriDev / np.sum(FriDev)).plot(kind = 'bar', title = 'Are most of your friends developers?');"
   ]
  },
  {
   "cell_type": "markdown",
   "id": "edee55ac",
   "metadata": {},
   "source": [
    "The data shown above has an expected normal distribution pattern. We can ask the question: <br>\n",
    "**Does the composition of your friend circle related to job satisfaction?**"
   ]
  },
  {
   "cell_type": "markdown",
   "id": "d2e266a8",
   "metadata": {},
   "source": [
    "#### Then let's explore the column SeriousWork"
   ]
  },
  {
   "cell_type": "code",
   "execution_count": 26,
   "id": "9eb4c503",
   "metadata": {},
   "outputs": [
    {
     "data": {
      "text/plain": [
       "0.3965208592777086"
      ]
     },
     "execution_count": 26,
     "metadata": {},
     "output_type": "execute_result"
    }
   ],
   "source": [
    "df.SeriousWork.isnull().mean()"
   ]
  },
  {
   "cell_type": "code",
   "execution_count": 25,
   "id": "ef4f1c84",
   "metadata": {},
   "outputs": [
    {
     "data": {
      "image/png": "[encoded data removed]",
      "text/plain": [
       "<Figure size 432x288 with 1 Axes>"
      ]
     },
     "metadata": {
      "needs_background": "light"
     },
     "output_type": "display_data"
    }
   ],
   "source": [
    "SerWork = df.SeriousWork.value_counts()\n",
    "new_index = ['Strongly disagree', 'Disagree', 'Somewhat agree', 'Agree', 'Strongly agree']\n",
    "SerWork = SerWork.reindex(index = new_index)\n",
    "(SerWork / np.sum(SerWork)).plot(kind = 'bar', title = 'Do you take your work seriously?');"
   ]
  },
  {
   "cell_type": "markdown",
   "id": "8477864f",
   "metadata": {},
   "source": [
    "It doesn't surprise me that most of the respondents take their work at least somewhat seriously. Because we essentially only have 3 categories, I wonder if it's less interesting to find this column's correlation with job satisfaction. But I'll do it anyways."
   ]
  },
  {
   "cell_type": "markdown",
   "id": "7720b512",
   "metadata": {},
   "source": [
    "#### How about CompetePeers?"
   ]
  },
  {
   "cell_type": "code",
   "execution_count": 27,
   "id": "b130f9eb",
   "metadata": {},
   "outputs": [
    {
     "data": {
      "text/plain": [
       "0.40049034869240346"
      ]
     },
     "execution_count": 27,
     "metadata": {},
     "output_type": "execute_result"
    }
   ],
   "source": [
    "df.CompetePeers.isnull().mean()"
   ]
  },
  {
   "cell_type": "code",
   "execution_count": 28,
   "id": "565729be",
   "metadata": {},
   "outputs": [
    {
     "data": {
      "image/png": "[encoded data removed]",
      "text/plain": [
       "<Figure size 432x288 with 1 Axes>"
      ]
     },
     "metadata": {
      "needs_background": "light"
     },
     "output_type": "display_data"
    }
   ],
   "source": [
    "peers = df.CompetePeers.value_counts()\n",
    "new_index = ['Strongly disagree', 'Disagree', 'Somewhat agree', 'Agree', 'Strongly agree']\n",
    "peers = peers.reindex(index = new_index)\n",
    "(peers / np.sum(peers)).plot(kind = 'bar', title = 'Do you think of yourself as competing with peers?');"
   ]
  },
  {
   "cell_type": "markdown",
   "id": "19e4f48d",
   "metadata": {},
   "source": [
    "This is one is a nice normal distribution, so we will definitely try to analyze its correlation with job satisfaction."
   ]
  },
  {
   "cell_type": "markdown",
   "id": "ce762a84",
   "metadata": {},
   "source": [
    "#### How about DifficultCommunication?"
   ]
  },
  {
   "cell_type": "code",
   "execution_count": 30,
   "id": "e07cb5af",
   "metadata": {},
   "outputs": [
    {
     "data": {
      "text/plain": [
       "0.4232565379825654"
      ]
     },
     "execution_count": 30,
     "metadata": {},
     "output_type": "execute_result"
    }
   ],
   "source": [
    "df.DifficultCommunication.isnull().mean()"
   ]
  },
  {
   "cell_type": "code",
   "execution_count": 31,
   "id": "d8b9f709",
   "metadata": {},
   "outputs": [
    {
     "data": {
      "image/png": "[encoded data removed]",
      "text/plain": [
       "<Figure size 432x288 with 1 Axes>"
      ]
     },
     "metadata": {
      "needs_background": "light"
     },
     "output_type": "display_data"
    }
   ],
   "source": [
    "DiffComm = df.DifficultCommunication.value_counts()\n",
    "new_index = ['Strongly disagree', 'Disagree', 'Somewhat agree', 'Agree', 'Strongly agree']\n",
    "DiffComm = DiffComm.reindex(index = new_index)\n",
    "(DiffComm / np.sum(DiffComm)).plot(kind = 'bar', title = 'Do you have difficulties with communication?');"
   ]
  },
  {
   "cell_type": "code",
   "execution_count": 32,
   "id": "587f37aa",
   "metadata": {},
   "outputs": [
    {
     "data": {
      "text/html": [
       "<div>\n",
       "<style scoped>\n",
       "    .dataframe tbody tr th:only-of-type {\n",
       "        vertical-align: middle;\n",
       "    }\n",
       "\n",
       "    .dataframe tbody tr th {\n",
       "        vertical-align: top;\n",
       "    }\n",
       "\n",
       "    .dataframe thead th {\n",
       "        text-align: right;\n",
       "    }\n",
       "</style>\n",
       "<table border=\"1\" class=\"dataframe\">\n",
       "  <thead>\n",
       "    <tr style=\"text-align: right;\">\n",
       "      <th></th>\n",
       "      <th>Respondent</th>\n",
       "      <th>CareerSatisfaction</th>\n",
       "      <th>JobSatisfaction</th>\n",
       "      <th>HoursPerWeek</th>\n",
       "      <th>StackOverflowSatisfaction</th>\n",
       "      <th>Salary</th>\n",
       "      <th>ExpectedSalary</th>\n",
       "    </tr>\n",
       "  </thead>\n",
       "  <tbody>\n",
       "    <tr>\n",
       "      <th>count</th>\n",
       "      <td>51392.000000</td>\n",
       "      <td>42695.000000</td>\n",
       "      <td>40376.000000</td>\n",
       "      <td>20600.000000</td>\n",
       "      <td>36592.000000</td>\n",
       "      <td>12891.000000</td>\n",
       "      <td>2566.000000</td>\n",
       "    </tr>\n",
       "    <tr>\n",
       "      <th>mean</th>\n",
       "      <td>25696.500000</td>\n",
       "      <td>7.300574</td>\n",
       "      <td>6.957078</td>\n",
       "      <td>3.952282</td>\n",
       "      <td>8.429875</td>\n",
       "      <td>56298.480641</td>\n",
       "      <td>33142.220468</td>\n",
       "    </tr>\n",
       "    <tr>\n",
       "      <th>std</th>\n",
       "      <td>14835.736854</td>\n",
       "      <td>1.955444</td>\n",
       "      <td>2.167652</td>\n",
       "      <td>7.564722</td>\n",
       "      <td>1.390635</td>\n",
       "      <td>39880.905277</td>\n",
       "      <td>30162.988829</td>\n",
       "    </tr>\n",
       "    <tr>\n",
       "      <th>min</th>\n",
       "      <td>1.000000</td>\n",
       "      <td>0.000000</td>\n",
       "      <td>0.000000</td>\n",
       "      <td>0.000000</td>\n",
       "      <td>0.000000</td>\n",
       "      <td>0.000000</td>\n",
       "      <td>0.000000</td>\n",
       "    </tr>\n",
       "    <tr>\n",
       "      <th>25%</th>\n",
       "      <td>12848.750000</td>\n",
       "      <td>6.000000</td>\n",
       "      <td>6.000000</td>\n",
       "      <td>1.000000</td>\n",
       "      <td>8.000000</td>\n",
       "      <td>26440.371839</td>\n",
       "      <td>4490.492484</td>\n",
       "    </tr>\n",
       "    <tr>\n",
       "      <th>50%</th>\n",
       "      <td>25696.500000</td>\n",
       "      <td>8.000000</td>\n",
       "      <td>7.000000</td>\n",
       "      <td>1.000000</td>\n",
       "      <td>9.000000</td>\n",
       "      <td>50000.000000</td>\n",
       "      <td>29364.263691</td>\n",
       "    </tr>\n",
       "    <tr>\n",
       "      <th>75%</th>\n",
       "      <td>38544.250000</td>\n",
       "      <td>9.000000</td>\n",
       "      <td>8.000000</td>\n",
       "      <td>4.000000</td>\n",
       "      <td>10.000000</td>\n",
       "      <td>80000.000000</td>\n",
       "      <td>50403.225806</td>\n",
       "    </tr>\n",
       "    <tr>\n",
       "      <th>max</th>\n",
       "      <td>51392.000000</td>\n",
       "      <td>10.000000</td>\n",
       "      <td>10.000000</td>\n",
       "      <td>40.000000</td>\n",
       "      <td>10.000000</td>\n",
       "      <td>197000.000000</td>\n",
       "      <td>187500.000000</td>\n",
       "    </tr>\n",
       "  </tbody>\n",
       "</table>\n",
       "</div>"
      ],
      "text/plain": [
       "         Respondent  CareerSatisfaction  JobSatisfaction  HoursPerWeek  \\\n",
       "count  51392.000000        42695.000000     40376.000000  20600.000000   \n",
       "mean   25696.500000            7.300574         6.957078      3.952282   \n",
       "std    14835.736854            1.955444         2.167652      7.564722   \n",
       "min        1.000000            0.000000         0.000000      0.000000   \n",
       "25%    12848.750000            6.000000         6.000000      1.000000   \n",
       "50%    25696.500000            8.000000         7.000000      1.000000   \n",
       "75%    38544.250000            9.000000         8.000000      4.000000   \n",
       "max    51392.000000           10.000000        10.000000     40.000000   \n",
       "\n",
       "       StackOverflowSatisfaction         Salary  ExpectedSalary  \n",
       "count               36592.000000   12891.000000     2566.000000  \n",
       "mean                    8.429875   56298.480641    33142.220468  \n",
       "std                     1.390635   39880.905277    30162.988829  \n",
       "min                     0.000000       0.000000        0.000000  \n",
       "25%                     8.000000   26440.371839     4490.492484  \n",
       "50%                     9.000000   50000.000000    29364.263691  \n",
       "75%                    10.000000   80000.000000    50403.225806  \n",
       "max                    10.000000  197000.000000   187500.000000  "
      ]
     },
     "execution_count": 32,
     "metadata": {},
     "output_type": "execute_result"
    }
   ],
   "source": [
    "df.describe()"
   ]
  },
  {
   "cell_type": "code",
   "execution_count": 44,
   "id": "d1bde9cd",
   "metadata": {},
   "outputs": [
    {
     "data": {
      "image/png": "[encoded data removed]",
      "text/plain": [
       "<Figure size 432x288 with 1 Axes>"
      ]
     },
     "metadata": {
      "needs_background": "light"
     },
     "output_type": "display_data"
    }
   ],
   "source": [
    "%matplotlib inline\n",
    "df.JobSatisfaction.hist(bins = 10)\n",
    "plt.title('Job Satisfaction');\n"
   ]
  },
  {
   "cell_type": "code",
   "execution_count": 45,
   "id": "41f6bef5",
   "metadata": {},
   "outputs": [
    {
     "data": {
      "image/png": "[encoded data removed]",
      "text/plain": [
       "<Figure size 432x288 with 1 Axes>"
      ]
     },
     "metadata": {
      "needs_background": "light"
     },
     "output_type": "display_data"
    }
   ],
   "source": [
    "df.CareerSatisfaction.hist(bins = 10)\n",
    "plt.title('Career Satisfaction');"
   ]
  },
  {
   "cell_type": "code",
   "execution_count": null,
   "id": "5320390a",
   "metadata": {},
   "outputs": [],
   "source": []
  }
 ],
 "metadata": {
  "kernelspec": {
   "display_name": "Python 3 (ipykernel)",
   "language": "python",
   "name": "python3"
  },
  "language_info": {
   "codemirror_mode": {
    "name": "ipython",
    "version": 3
   },
   "file_extension": ".py",
   "mimetype": "text/x-python",
   "name": "python",
   "nbconvert_exporter": "python",
   "pygments_lexer": "ipython3",
   "version": "3.9.12"
  }
 },
 "nbformat": 4,
 "nbformat_minor": 5
}
