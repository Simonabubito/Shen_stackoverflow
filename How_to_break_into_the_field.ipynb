{
 "cells": [
  {
   "cell_type": "markdown",
   "id": "205ac8f0",
   "metadata": {},
   "source": [
    "# How to break into the field\n",
    "In this notebook I will follow along the nb from Udacity course and practice some basic data wrangling. <br>\n",
    "**Question: What do the survey takers advise to break into the field of software development?**"
   ]
  },
  {
   "cell_type": "code",
   "execution_count": 1,
   "id": "2f8cb5db",
   "metadata": {},
   "outputs": [],
   "source": [
    "import numpy as np\n",
    "import pandas as pd\n",
    "from collections import defaultdict\n",
    "import matplotlib.pyplot as plt"
   ]
  },
  {
   "cell_type": "code",
   "execution_count": 3,
   "id": "32d717e0",
   "metadata": {},
   "outputs": [
    {
     "data": {
      "text/html": [
       "<div>\n",
       "<style scoped>\n",
       "    .dataframe tbody tr th:only-of-type {\n",
       "        vertical-align: middle;\n",
       "    }\n",
       "\n",
       "    .dataframe tbody tr th {\n",
       "        vertical-align: top;\n",
       "    }\n",
       "\n",
       "    .dataframe thead th {\n",
       "        text-align: right;\n",
       "    }\n",
       "</style>\n",
       "<table border=\"1\" class=\"dataframe\">\n",
       "  <thead>\n",
       "    <tr style=\"text-align: right;\">\n",
       "      <th></th>\n",
       "      <th>Respondent</th>\n",
       "      <th>Professional</th>\n",
       "      <th>ProgramHobby</th>\n",
       "      <th>Country</th>\n",
       "      <th>University</th>\n",
       "      <th>EmploymentStatus</th>\n",
       "      <th>FormalEducation</th>\n",
       "      <th>MajorUndergrad</th>\n",
       "      <th>HomeRemote</th>\n",
       "      <th>CompanySize</th>\n",
       "      <th>...</th>\n",
       "      <th>StackOverflowMakeMoney</th>\n",
       "      <th>Gender</th>\n",
       "      <th>HighestEducationParents</th>\n",
       "      <th>Race</th>\n",
       "      <th>SurveyLong</th>\n",
       "      <th>QuestionsInteresting</th>\n",
       "      <th>QuestionsConfusing</th>\n",
       "      <th>InterestedAnswers</th>\n",
       "      <th>Salary</th>\n",
       "      <th>ExpectedSalary</th>\n",
       "    </tr>\n",
       "  </thead>\n",
       "  <tbody>\n",
       "    <tr>\n",
       "      <th>0</th>\n",
       "      <td>1</td>\n",
       "      <td>Student</td>\n",
       "      <td>Yes, both</td>\n",
       "      <td>United States</td>\n",
       "      <td>No</td>\n",
       "      <td>Not employed, and not looking for work</td>\n",
       "      <td>Secondary school</td>\n",
       "      <td>NaN</td>\n",
       "      <td>NaN</td>\n",
       "      <td>NaN</td>\n",
       "      <td>...</td>\n",
       "      <td>Strongly disagree</td>\n",
       "      <td>Male</td>\n",
       "      <td>High school</td>\n",
       "      <td>White or of European descent</td>\n",
       "      <td>Strongly disagree</td>\n",
       "      <td>Strongly agree</td>\n",
       "      <td>Disagree</td>\n",
       "      <td>Strongly agree</td>\n",
       "      <td>NaN</td>\n",
       "      <td>NaN</td>\n",
       "    </tr>\n",
       "    <tr>\n",
       "      <th>1</th>\n",
       "      <td>2</td>\n",
       "      <td>Student</td>\n",
       "      <td>Yes, both</td>\n",
       "      <td>United Kingdom</td>\n",
       "      <td>Yes, full-time</td>\n",
       "      <td>Employed part-time</td>\n",
       "      <td>Some college/university study without earning ...</td>\n",
       "      <td>Computer science or software engineering</td>\n",
       "      <td>More than half, but not all, the time</td>\n",
       "      <td>20 to 99 employees</td>\n",
       "      <td>...</td>\n",
       "      <td>Strongly disagree</td>\n",
       "      <td>Male</td>\n",
       "      <td>A master's degree</td>\n",
       "      <td>White or of European descent</td>\n",
       "      <td>Somewhat agree</td>\n",
       "      <td>Somewhat agree</td>\n",
       "      <td>Disagree</td>\n",
       "      <td>Strongly agree</td>\n",
       "      <td>NaN</td>\n",
       "      <td>37500.0</td>\n",
       "    </tr>\n",
       "  </tbody>\n",
       "</table>\n",
       "<p>2 rows × 154 columns</p>\n",
       "</div>"
      ],
      "text/plain": [
       "   Respondent Professional ProgramHobby         Country      University  \\\n",
       "0           1      Student    Yes, both   United States              No   \n",
       "1           2      Student    Yes, both  United Kingdom  Yes, full-time   \n",
       "\n",
       "                         EmploymentStatus  \\\n",
       "0  Not employed, and not looking for work   \n",
       "1                      Employed part-time   \n",
       "\n",
       "                                     FormalEducation  \\\n",
       "0                                   Secondary school   \n",
       "1  Some college/university study without earning ...   \n",
       "\n",
       "                             MajorUndergrad  \\\n",
       "0                                       NaN   \n",
       "1  Computer science or software engineering   \n",
       "\n",
       "                              HomeRemote         CompanySize  ...  \\\n",
       "0                                    NaN                 NaN  ...   \n",
       "1  More than half, but not all, the time  20 to 99 employees  ...   \n",
       "\n",
       "  StackOverflowMakeMoney Gender HighestEducationParents  \\\n",
       "0      Strongly disagree   Male             High school   \n",
       "1      Strongly disagree   Male       A master's degree   \n",
       "\n",
       "                           Race         SurveyLong QuestionsInteresting  \\\n",
       "0  White or of European descent  Strongly disagree       Strongly agree   \n",
       "1  White or of European descent     Somewhat agree       Somewhat agree   \n",
       "\n",
       "  QuestionsConfusing InterestedAnswers  Salary  ExpectedSalary  \n",
       "0           Disagree    Strongly agree     NaN             NaN  \n",
       "1           Disagree    Strongly agree     NaN         37500.0  \n",
       "\n",
       "[2 rows x 154 columns]"
      ]
     },
     "execution_count": 3,
     "metadata": {},
     "output_type": "execute_result"
    }
   ],
   "source": [
    "df = pd.read_csv('survey-results-public.csv')\n",
    "df.head(2)"
   ]
  },
  {
   "cell_type": "markdown",
   "id": "d1441c57",
   "metadata": {},
   "source": [
    "To answer the question, we need to check out the CousinEducation column in the schema.csv file."
   ]
  },
  {
   "cell_type": "code",
   "execution_count": 11,
   "id": "7c0f1619",
   "metadata": {},
   "outputs": [
    {
     "data": {
      "text/plain": [
       "[\"Let's pretend you have a distant cousin. They are 24 years old, have a college degree in a field not related to computer programming, and have been working a non-coding job for the last two years. They want your advice on how to switch to a career as a software developer. Which of the following options would you most strongly recommend to your cousin?\\nLet's pretend you have a distant cousin named Robert. He is 24 years old, has a college degree in a field not related to computer programming, and has been working a non-coding job for the last two years. He wants your advice on how to switch to a career as a software developer. Which of the following options would you most strongly recommend to Robert?\\nLet's pretend you have a distant cousin named Alice. She is 24 years old, has a college degree in a field not related to computer programming, and has been working a non-coding job for the last two years. She wants your advice on how to switch to a career as a software developer. Which of the following options would you most strongly recommend to Alice?\"]"
      ]
     },
     "execution_count": 11,
     "metadata": {},
     "output_type": "execute_result"
    }
   ],
   "source": [
    "dfs = pd.read_csv('survey-results-schema.csv')\n",
    "list(dfs[dfs.Column == 'CousinEducation']['Question'])"
   ]
  },
  {
   "cell_type": "code",
   "execution_count": 64,
   "id": "4bf5a17e",
   "metadata": {},
   "outputs": [
    {
     "data": {
      "text/plain": [
       "0.5414072229140723"
      ]
     },
     "execution_count": 64,
     "metadata": {},
     "output_type": "execute_result"
    }
   ],
   "source": [
    "# Just checking what portion of this column is NaN.\n",
    "df.CousinEducation.isnull().mean()"
   ]
  },
  {
   "cell_type": "code",
   "execution_count": 65,
   "id": "d7b6de0e",
   "metadata": {},
   "outputs": [
    {
     "data": {
      "text/html": [
       "<div>\n",
       "<style scoped>\n",
       "    .dataframe tbody tr th:only-of-type {\n",
       "        vertical-align: middle;\n",
       "    }\n",
       "\n",
       "    .dataframe tbody tr th {\n",
       "        vertical-align: top;\n",
       "    }\n",
       "\n",
       "    .dataframe thead th {\n",
       "        text-align: right;\n",
       "    }\n",
       "</style>\n",
       "<table border=\"1\" class=\"dataframe\">\n",
       "  <thead>\n",
       "    <tr style=\"text-align: right;\">\n",
       "      <th></th>\n",
       "      <th>index</th>\n",
       "      <th>CousinEducation</th>\n",
       "    </tr>\n",
       "  </thead>\n",
       "  <tbody>\n",
       "    <tr>\n",
       "      <th>0</th>\n",
       "      <td>Take online courses; Buy books and work throug...</td>\n",
       "      <td>711</td>\n",
       "    </tr>\n",
       "    <tr>\n",
       "      <th>1</th>\n",
       "      <td>Take online courses</td>\n",
       "      <td>551</td>\n",
       "    </tr>\n",
       "    <tr>\n",
       "      <th>2</th>\n",
       "      <td>None of these</td>\n",
       "      <td>523</td>\n",
       "    </tr>\n",
       "    <tr>\n",
       "      <th>3</th>\n",
       "      <td>Take online courses; Part-time/evening courses...</td>\n",
       "      <td>479</td>\n",
       "    </tr>\n",
       "    <tr>\n",
       "      <th>4</th>\n",
       "      <td>Take online courses; Bootcamp; Part-time/eveni...</td>\n",
       "      <td>465</td>\n",
       "    </tr>\n",
       "  </tbody>\n",
       "</table>\n",
       "</div>"
      ],
      "text/plain": [
       "                                               index  CousinEducation\n",
       "0  Take online courses; Buy books and work throug...              711\n",
       "1                                Take online courses              551\n",
       "2                                      None of these              523\n",
       "3  Take online courses; Part-time/evening courses...              479\n",
       "4  Take online courses; Bootcamp; Part-time/eveni...              465"
      ]
     },
     "execution_count": 65,
     "metadata": {},
     "output_type": "execute_result"
    }
   ],
   "source": [
    "# Now let's check the distribution of different answers.\n",
    "# Note that reset_index() converts pd series to dataframe\n",
    "study = df['CousinEducation'].value_counts().reset_index()\n",
    "study.head()"
   ]
  },
  {
   "cell_type": "markdown",
   "id": "6a2ac6df",
   "metadata": {},
   "source": [
    "Looks like this is a multiple choice question with many possible combinations, separated by ; <br>\n",
    "Let's try to clean this up.\n"
   ]
  },
  {
   "cell_type": "code",
   "execution_count": 66,
   "id": "01b9c5f0",
   "metadata": {},
   "outputs": [
    {
     "data": {
      "text/html": [
       "<div>\n",
       "<style scoped>\n",
       "    .dataframe tbody tr th:only-of-type {\n",
       "        vertical-align: middle;\n",
       "    }\n",
       "\n",
       "    .dataframe tbody tr th {\n",
       "        vertical-align: top;\n",
       "    }\n",
       "\n",
       "    .dataframe thead th {\n",
       "        text-align: right;\n",
       "    }\n",
       "</style>\n",
       "<table border=\"1\" class=\"dataframe\">\n",
       "  <thead>\n",
       "    <tr style=\"text-align: right;\">\n",
       "      <th></th>\n",
       "      <th>method</th>\n",
       "      <th>count</th>\n",
       "    </tr>\n",
       "  </thead>\n",
       "  <tbody>\n",
       "    <tr>\n",
       "      <th>0</th>\n",
       "      <td>Take online courses; Buy books and work throug...</td>\n",
       "      <td>711</td>\n",
       "    </tr>\n",
       "    <tr>\n",
       "      <th>1</th>\n",
       "      <td>Take online courses</td>\n",
       "      <td>551</td>\n",
       "    </tr>\n",
       "  </tbody>\n",
       "</table>\n",
       "</div>"
      ],
      "text/plain": [
       "                                              method  count\n",
       "0  Take online courses; Buy books and work throug...    711\n",
       "1                                Take online courses    551"
      ]
     },
     "execution_count": 66,
     "metadata": {},
     "output_type": "execute_result"
    }
   ],
   "source": [
    "# First let's change the column names\n",
    "study.rename(columns = {'index': 'method', 'CousinEducation': 'count'}, inplace = True)\n",
    "study.head(2)"
   ]
  },
  {
   "cell_type": "markdown",
   "id": "8d8fb712",
   "metadata": {},
   "source": [
    "### Write a function to clean up the data in the df study\n",
    "Here I will try to write a function which is **more efficient than the example provided in the course material**. Instead of searching for all the possible methods in each row of the df, I will loop through all the rows in the df, at each row convert the 'Method' str into a list of different methods. Then go through that list, and += the count to the corresponding method in the dict."
   ]
  },
  {
   "cell_type": "code",
   "execution_count": 67,
   "id": "d8d94bda",
   "metadata": {},
   "outputs": [],
   "source": [
    "def get_count(df, cola, colb):\n",
    "    \"\"\"\n",
    "    INPUT: \n",
    "    df - The dataframe you want to search counts from\n",
    "    cola - (str) The name of the col where the keys (categories) are\n",
    "    colb - (str) The nmae of the col where the count numbers are\n",
    "    \n",
    "    OUTPUT:\n",
    "    count - A dataframe showing the count number of each key (category)\n",
    "    \n",
    "    \"\"\"\n",
    "    count = defaultdict(int)\n",
    "    for i in range(df.shape[0]):\n",
    "        s = df[cola][i]\n",
    "        keys = s.split('; ')\n",
    "        for key in keys:\n",
    "            key = key.strip()\n",
    "            count[key] += df[colb][i]\n",
    "    count = pd.DataFrame(pd.Series(count)).reset_index()\n",
    "    count.columns = [cola, colb]\n",
    "    count.sort_values(colb, ascending = False, inplace = True)\n",
    "    \n",
    "    return count "
   ]
  },
  {
   "cell_type": "code",
   "execution_count": 68,
   "id": "5ab0d0aa",
   "metadata": {},
   "outputs": [
    {
     "data": {
      "text/html": [
       "<div>\n",
       "<style scoped>\n",
       "    .dataframe tbody tr th:only-of-type {\n",
       "        vertical-align: middle;\n",
       "    }\n",
       "\n",
       "    .dataframe tbody tr th {\n",
       "        vertical-align: top;\n",
       "    }\n",
       "\n",
       "    .dataframe thead th {\n",
       "        text-align: right;\n",
       "    }\n",
       "</style>\n",
       "<table border=\"1\" class=\"dataframe\">\n",
       "  <thead>\n",
       "    <tr style=\"text-align: right;\">\n",
       "      <th></th>\n",
       "      <th>method</th>\n",
       "      <th>count</th>\n",
       "      <th>perc</th>\n",
       "    </tr>\n",
       "  </thead>\n",
       "  <tbody>\n",
       "    <tr>\n",
       "      <th>0</th>\n",
       "      <td>Take online courses</td>\n",
       "      <td>15246</td>\n",
       "      <td>0.209432</td>\n",
       "    </tr>\n",
       "    <tr>\n",
       "      <th>1</th>\n",
       "      <td>Buy books and work through the exercises</td>\n",
       "      <td>11750</td>\n",
       "      <td>0.161408</td>\n",
       "    </tr>\n",
       "    <tr>\n",
       "      <th>3</th>\n",
       "      <td>Part-time/evening courses</td>\n",
       "      <td>7517</td>\n",
       "      <td>0.103260</td>\n",
       "    </tr>\n",
       "    <tr>\n",
       "      <th>7</th>\n",
       "      <td>Contribute to open source</td>\n",
       "      <td>7423</td>\n",
       "      <td>0.101968</td>\n",
       "    </tr>\n",
       "    <tr>\n",
       "      <th>4</th>\n",
       "      <td>Bootcamp</td>\n",
       "      <td>5276</td>\n",
       "      <td>0.072476</td>\n",
       "    </tr>\n",
       "  </tbody>\n",
       "</table>\n",
       "</div>"
      ],
      "text/plain": [
       "                                     method  count      perc\n",
       "0                       Take online courses  15246  0.209432\n",
       "1  Buy books and work through the exercises  11750  0.161408\n",
       "3                 Part-time/evening courses   7517  0.103260\n",
       "7                 Contribute to open source   7423  0.101968\n",
       "4                                  Bootcamp   5276  0.072476"
      ]
     },
     "execution_count": 68,
     "metadata": {},
     "output_type": "execute_result"
    }
   ],
   "source": [
    "study = get_count(study, 'method', 'count')\n",
    "study['perc'] = study['count'] / np.sum(study['count'])\n",
    "study.head()"
   ]
  },
  {
   "cell_type": "markdown",
   "id": "1572c718",
   "metadata": {},
   "source": [
    "### Calculate the average salary of people who suggested each Break-in-the-field method\n",
    "We can modify the function written above, to add two more dataframes and merge all three as return. The addional dataframes will contain information needed to calculate the average salary and standard deviation of each method group."
   ]
  },
  {
   "cell_type": "code",
   "execution_count": null,
   "id": "f26cd514",
   "metadata": {},
   "outputs": [],
   "source": [
    "def get_count(df, cat_col, cnt_col, avg_col):\n",
    "    \"\"\"\n",
    "    INPUT: \n",
    "    df - The dataframe you want to search counts from\n",
    "    cat_col - (str) The name of the col where the keys (categories) are\n",
    "    cnt_col - (str) The nmae of the col where the count numbers are\n",
    "    avg_col - (str) The nmae of the col where the average is to be calculated (e.g., salary or job satisfaction)\n",
    "    \n",
    "    OUTPUT:\n",
    "    count - A dataframe showing the count number of each key (category)\n",
    "    \n",
    "    \"\"\"\n",
    "    count = defaultdict(int)\n",
    "    for i in range(df.shape[0]):\n",
    "        s = df[cola][i]\n",
    "        keys = s.split('; ')\n",
    "        for key in keys:\n",
    "            key = key.strip()\n",
    "            count[key] += df[colb][i]\n",
    "    count = pd.DataFrame(pd.Series(count)).reset_index()\n",
    "    count.columns = [cola, colb]\n",
    "    count.sort_values(colb, ascending = False, inplace = True)\n",
    "    \n",
    "    return count "
   ]
  }
 ],
 "metadata": {
  "kernelspec": {
   "display_name": "Python 3 (ipykernel)",
   "language": "python",
   "name": "python3"
  },
  "language_info": {
   "codemirror_mode": {
    "name": "ipython",
    "version": 3
   },
   "file_extension": ".py",
   "mimetype": "text/x-python",
   "name": "python",
   "nbconvert_exporter": "python",
   "pygments_lexer": "ipython3",
   "version": "3.9.12"
  }
 },
 "nbformat": 4,
 "nbformat_minor": 5
}
